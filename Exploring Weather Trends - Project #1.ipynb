{
 "cells": [
  {
   "cell_type": "markdown",
   "id": "0b79243c",
   "metadata": {},
   "source": [
    "## Exploring Weather Trends - Project #1\n"
   ]
  },
  {
   "cell_type": "markdown",
   "id": "5647f72f",
   "metadata": {},
   "source": [
    "## Importing libraries"
   ]
  },
  {
   "cell_type": "code",
   "execution_count": 259,
   "id": "4f9ec53a",
   "metadata": {},
   "outputs": [],
   "source": [
    "import pandas as pd\n",
    "import numpy as np\n",
    "import matplotlib.pyplot as plt\n",
    "import seaborn as sns"
   ]
  },
  {
   "cell_type": "markdown",
   "id": "e6fd20fb",
   "metadata": {},
   "source": [
    "### Importing data city_data "
   ]
  },
  {
   "cell_type": "code",
   "execution_count": 260,
   "id": "3e6f2720",
   "metadata": {},
   "outputs": [],
   "source": [
    "df_city= pd.read_csv('data/results1.csv',index_col='year',parse_dates=True)"
   ]
  },
  {
   "cell_type": "markdown",
   "id": "7fee1e1e",
   "metadata": {},
   "source": [
    "### Checking from row and column numbers"
   ]
  },
  {
   "cell_type": "code",
   "execution_count": 261,
   "id": "a63c17da",
   "metadata": {},
   "outputs": [
    {
     "data": {
      "text/plain": [
       "(70792, 3)"
      ]
     },
     "execution_count": 261,
     "metadata": {},
     "output_type": "execute_result"
    }
   ],
   "source": [
    "df_city.shape"
   ]
  },
  {
   "cell_type": "markdown",
   "id": "a1129d5f",
   "metadata": {},
   "source": [
    "### Displaying the data types of the columns"
   ]
  },
  {
   "cell_type": "code",
   "execution_count": 262,
   "id": "9c228b01",
   "metadata": {},
   "outputs": [
    {
     "name": "stdout",
     "output_type": "stream",
     "text": [
      "<class 'pandas.core.frame.DataFrame'>\n",
      "DatetimeIndex: 70792 entries, 1849-01-01 to 2013-01-01\n",
      "Data columns (total 3 columns):\n",
      " #   Column    Non-Null Count  Dtype  \n",
      "---  ------    --------------  -----  \n",
      " 0   city      70792 non-null  object \n",
      " 1   country   70792 non-null  object \n",
      " 2   avg_temp  68245 non-null  float64\n",
      "dtypes: float64(1), object(2)\n",
      "memory usage: 2.2+ MB\n"
     ]
    }
   ],
   "source": [
    "df_city.info()"
   ]
  },
  {
   "cell_type": "markdown",
   "id": "6c743a02",
   "metadata": {},
   "source": [
    "### Displaying the missing data"
   ]
  },
  {
   "cell_type": "code",
   "execution_count": 263,
   "id": "64fb7a31",
   "metadata": {},
   "outputs": [],
   "source": [
    "missing_data=df_city.isna().sum()"
   ]
  },
  {
   "cell_type": "code",
   "execution_count": 264,
   "id": "f88b45c8",
   "metadata": {},
   "outputs": [
    {
     "data": {
      "text/plain": [
       "city           0\n",
       "country        0\n",
       "avg_temp    2547\n",
       "dtype: int64"
      ]
     },
     "execution_count": 264,
     "metadata": {},
     "output_type": "execute_result"
    }
   ],
   "source": [
    "missing_data"
   ]
  },
  {
   "cell_type": "markdown",
   "id": "f56b475e",
   "metadata": {},
   "source": [
    "### Selecting only my country"
   ]
  },
  {
   "cell_type": "code",
   "execution_count": 265,
   "id": "09380c79",
   "metadata": {},
   "outputs": [],
   "source": [
    "df_city = df_city[(df_city['country']=='Saudi Arabia') & (df_city['city']=='Mecca')]"
   ]
  },
  {
   "cell_type": "code",
   "execution_count": 266,
   "id": "0aad8b05",
   "metadata": {},
   "outputs": [
    {
     "data": {
      "text/html": [
       "<div>\n",
       "<style scoped>\n",
       "    .dataframe tbody tr th:only-of-type {\n",
       "        vertical-align: middle;\n",
       "    }\n",
       "\n",
       "    .dataframe tbody tr th {\n",
       "        vertical-align: top;\n",
       "    }\n",
       "\n",
       "    .dataframe thead th {\n",
       "        text-align: right;\n",
       "    }\n",
       "</style>\n",
       "<table border=\"1\" class=\"dataframe\">\n",
       "  <thead>\n",
       "    <tr style=\"text-align: right;\">\n",
       "      <th></th>\n",
       "      <th>city</th>\n",
       "      <th>country</th>\n",
       "      <th>avg_temp</th>\n",
       "    </tr>\n",
       "    <tr>\n",
       "      <th>year</th>\n",
       "      <th></th>\n",
       "      <th></th>\n",
       "      <th></th>\n",
       "    </tr>\n",
       "  </thead>\n",
       "  <tbody>\n",
       "    <tr>\n",
       "      <th>1843-01-01</th>\n",
       "      <td>Mecca</td>\n",
       "      <td>Saudi Arabia</td>\n",
       "      <td>25.16</td>\n",
       "    </tr>\n",
       "    <tr>\n",
       "      <th>1844-01-01</th>\n",
       "      <td>Mecca</td>\n",
       "      <td>Saudi Arabia</td>\n",
       "      <td>19.05</td>\n",
       "    </tr>\n",
       "    <tr>\n",
       "      <th>1845-01-01</th>\n",
       "      <td>Mecca</td>\n",
       "      <td>Saudi Arabia</td>\n",
       "      <td>22.46</td>\n",
       "    </tr>\n",
       "    <tr>\n",
       "      <th>1846-01-01</th>\n",
       "      <td>Mecca</td>\n",
       "      <td>Saudi Arabia</td>\n",
       "      <td>NaN</td>\n",
       "    </tr>\n",
       "    <tr>\n",
       "      <th>1847-01-01</th>\n",
       "      <td>Mecca</td>\n",
       "      <td>Saudi Arabia</td>\n",
       "      <td>NaN</td>\n",
       "    </tr>\n",
       "  </tbody>\n",
       "</table>\n",
       "</div>"
      ],
      "text/plain": [
       "             city       country  avg_temp\n",
       "year                                     \n",
       "1843-01-01  Mecca  Saudi Arabia     25.16\n",
       "1844-01-01  Mecca  Saudi Arabia     19.05\n",
       "1845-01-01  Mecca  Saudi Arabia     22.46\n",
       "1846-01-01  Mecca  Saudi Arabia       NaN\n",
       "1847-01-01  Mecca  Saudi Arabia       NaN"
      ]
     },
     "execution_count": 266,
     "metadata": {},
     "output_type": "execute_result"
    }
   ],
   "source": [
    "df_city.head()"
   ]
  },
  {
   "cell_type": "markdown",
   "id": "0818c284",
   "metadata": {},
   "source": [
    "### Checking from row and column numbers"
   ]
  },
  {
   "cell_type": "code",
   "execution_count": 267,
   "id": "3588b54b",
   "metadata": {},
   "outputs": [
    {
     "data": {
      "text/plain": [
       "(171, 3)"
      ]
     },
     "execution_count": 267,
     "metadata": {},
     "output_type": "execute_result"
    }
   ],
   "source": [
    "df_city.shape"
   ]
  },
  {
   "cell_type": "markdown",
   "id": "80804fe8",
   "metadata": {},
   "source": [
    "### Displaying the missing data in my city "
   ]
  },
  {
   "cell_type": "code",
   "execution_count": 268,
   "id": "6703efcc",
   "metadata": {},
   "outputs": [
    {
     "data": {
      "text/plain": [
       "15"
      ]
     },
     "execution_count": 268,
     "metadata": {},
     "output_type": "execute_result"
    }
   ],
   "source": [
    "df_city['avg_temp'].isnull().sum()"
   ]
  },
  {
   "cell_type": "markdown",
   "id": "5312c733",
   "metadata": {},
   "source": [
    "### Displaying the mean value for the avg_temp "
   ]
  },
  {
   "cell_type": "code",
   "execution_count": 269,
   "id": "a1276d89",
   "metadata": {},
   "outputs": [],
   "source": [
    "mean_value = df_city['avg_temp'].mean()"
   ]
  },
  {
   "cell_type": "code",
   "execution_count": 270,
   "id": "92b4b600",
   "metadata": {},
   "outputs": [
    {
     "data": {
      "text/plain": [
       "25.608910256410272"
      ]
     },
     "execution_count": 270,
     "metadata": {},
     "output_type": "execute_result"
    }
   ],
   "source": [
    "mean_value"
   ]
  },
  {
   "cell_type": "markdown",
   "id": "9d9d3d76",
   "metadata": {},
   "source": [
    "### Filling the NaN value by the mean  for the avg_temp "
   ]
  },
  {
   "cell_type": "code",
   "execution_count": 271,
   "id": "a70ea3d9",
   "metadata": {},
   "outputs": [],
   "source": [
    "df_city['avg_temp'].fillna(mean_value, inplace=True);"
   ]
  },
  {
   "cell_type": "code",
   "execution_count": 272,
   "id": "5489766c",
   "metadata": {},
   "outputs": [
    {
     "data": {
      "text/html": [
       "<div>\n",
       "<style scoped>\n",
       "    .dataframe tbody tr th:only-of-type {\n",
       "        vertical-align: middle;\n",
       "    }\n",
       "\n",
       "    .dataframe tbody tr th {\n",
       "        vertical-align: top;\n",
       "    }\n",
       "\n",
       "    .dataframe thead th {\n",
       "        text-align: right;\n",
       "    }\n",
       "</style>\n",
       "<table border=\"1\" class=\"dataframe\">\n",
       "  <thead>\n",
       "    <tr style=\"text-align: right;\">\n",
       "      <th></th>\n",
       "      <th>city</th>\n",
       "      <th>country</th>\n",
       "      <th>avg_temp</th>\n",
       "    </tr>\n",
       "    <tr>\n",
       "      <th>year</th>\n",
       "      <th></th>\n",
       "      <th></th>\n",
       "      <th></th>\n",
       "    </tr>\n",
       "  </thead>\n",
       "  <tbody>\n",
       "    <tr>\n",
       "      <th>1843-01-01</th>\n",
       "      <td>Mecca</td>\n",
       "      <td>Saudi Arabia</td>\n",
       "      <td>25.16000</td>\n",
       "    </tr>\n",
       "    <tr>\n",
       "      <th>1844-01-01</th>\n",
       "      <td>Mecca</td>\n",
       "      <td>Saudi Arabia</td>\n",
       "      <td>19.05000</td>\n",
       "    </tr>\n",
       "    <tr>\n",
       "      <th>1845-01-01</th>\n",
       "      <td>Mecca</td>\n",
       "      <td>Saudi Arabia</td>\n",
       "      <td>22.46000</td>\n",
       "    </tr>\n",
       "    <tr>\n",
       "      <th>1846-01-01</th>\n",
       "      <td>Mecca</td>\n",
       "      <td>Saudi Arabia</td>\n",
       "      <td>25.60891</td>\n",
       "    </tr>\n",
       "    <tr>\n",
       "      <th>1847-01-01</th>\n",
       "      <td>Mecca</td>\n",
       "      <td>Saudi Arabia</td>\n",
       "      <td>25.60891</td>\n",
       "    </tr>\n",
       "  </tbody>\n",
       "</table>\n",
       "</div>"
      ],
      "text/plain": [
       "             city       country  avg_temp\n",
       "year                                     \n",
       "1843-01-01  Mecca  Saudi Arabia  25.16000\n",
       "1844-01-01  Mecca  Saudi Arabia  19.05000\n",
       "1845-01-01  Mecca  Saudi Arabia  22.46000\n",
       "1846-01-01  Mecca  Saudi Arabia  25.60891\n",
       "1847-01-01  Mecca  Saudi Arabia  25.60891"
      ]
     },
     "execution_count": 272,
     "metadata": {},
     "output_type": "execute_result"
    }
   ],
   "source": [
    "df_city.head()"
   ]
  },
  {
   "cell_type": "markdown",
   "id": "19917e49",
   "metadata": {},
   "source": [
    "### Making sure there is no missing values!"
   ]
  },
  {
   "cell_type": "code",
   "execution_count": 273,
   "id": "fdb439e9",
   "metadata": {},
   "outputs": [
    {
     "data": {
      "text/plain": [
       "0"
      ]
     },
     "execution_count": 273,
     "metadata": {},
     "output_type": "execute_result"
    }
   ],
   "source": [
    "df_city['avg_temp'].isnull().sum()"
   ]
  },
  {
   "cell_type": "code",
   "execution_count": 275,
   "id": "8e98e317",
   "metadata": {
    "scrolled": true
   },
   "outputs": [],
   "source": [
    "df_city['avg_temp'] = round(df_city['avg_temp'],2)"
   ]
  },
  {
   "cell_type": "code",
   "execution_count": 276,
   "id": "635ea8b3",
   "metadata": {},
   "outputs": [
    {
     "data": {
      "text/html": [
       "<div>\n",
       "<style scoped>\n",
       "    .dataframe tbody tr th:only-of-type {\n",
       "        vertical-align: middle;\n",
       "    }\n",
       "\n",
       "    .dataframe tbody tr th {\n",
       "        vertical-align: top;\n",
       "    }\n",
       "\n",
       "    .dataframe thead th {\n",
       "        text-align: right;\n",
       "    }\n",
       "</style>\n",
       "<table border=\"1\" class=\"dataframe\">\n",
       "  <thead>\n",
       "    <tr style=\"text-align: right;\">\n",
       "      <th></th>\n",
       "      <th>city</th>\n",
       "      <th>country</th>\n",
       "      <th>avg_temp</th>\n",
       "    </tr>\n",
       "    <tr>\n",
       "      <th>year</th>\n",
       "      <th></th>\n",
       "      <th></th>\n",
       "      <th></th>\n",
       "    </tr>\n",
       "  </thead>\n",
       "  <tbody>\n",
       "    <tr>\n",
       "      <th>1843-01-01</th>\n",
       "      <td>Mecca</td>\n",
       "      <td>Saudi Arabia</td>\n",
       "      <td>25.16</td>\n",
       "    </tr>\n",
       "    <tr>\n",
       "      <th>1844-01-01</th>\n",
       "      <td>Mecca</td>\n",
       "      <td>Saudi Arabia</td>\n",
       "      <td>19.05</td>\n",
       "    </tr>\n",
       "    <tr>\n",
       "      <th>1845-01-01</th>\n",
       "      <td>Mecca</td>\n",
       "      <td>Saudi Arabia</td>\n",
       "      <td>22.46</td>\n",
       "    </tr>\n",
       "    <tr>\n",
       "      <th>1846-01-01</th>\n",
       "      <td>Mecca</td>\n",
       "      <td>Saudi Arabia</td>\n",
       "      <td>25.61</td>\n",
       "    </tr>\n",
       "    <tr>\n",
       "      <th>1847-01-01</th>\n",
       "      <td>Mecca</td>\n",
       "      <td>Saudi Arabia</td>\n",
       "      <td>25.61</td>\n",
       "    </tr>\n",
       "  </tbody>\n",
       "</table>\n",
       "</div>"
      ],
      "text/plain": [
       "             city       country  avg_temp\n",
       "year                                     \n",
       "1843-01-01  Mecca  Saudi Arabia     25.16\n",
       "1844-01-01  Mecca  Saudi Arabia     19.05\n",
       "1845-01-01  Mecca  Saudi Arabia     22.46\n",
       "1846-01-01  Mecca  Saudi Arabia     25.61\n",
       "1847-01-01  Mecca  Saudi Arabia     25.61"
      ]
     },
     "execution_count": 276,
     "metadata": {},
     "output_type": "execute_result"
    }
   ],
   "source": [
    "df_city.head()"
   ]
  },
  {
   "cell_type": "code",
   "execution_count": 277,
   "id": "57f8dd91",
   "metadata": {},
   "outputs": [
    {
     "data": {
      "text/plain": [
       "22.87"
      ]
     },
     "execution_count": 277,
     "metadata": {},
     "output_type": "execute_result"
    }
   ],
   "source": [
    "df['avg_temp'].min()"
   ]
  },
  {
   "cell_type": "code",
   "execution_count": 278,
   "id": "daea6dde",
   "metadata": {},
   "outputs": [
    {
     "data": {
      "text/plain": [
       "27.57"
      ]
     },
     "execution_count": 278,
     "metadata": {},
     "output_type": "execute_result"
    }
   ],
   "source": [
    "df['avg_temp'].max()"
   ]
  },
  {
   "cell_type": "code",
   "execution_count": 279,
   "id": "84ca667b",
   "metadata": {},
   "outputs": [],
   "source": [
    "df['moving_average'] = df['avg_temp'].rolling(window=10).mean()"
   ]
  },
  {
   "cell_type": "code",
   "execution_count": 280,
   "id": "8063c4e9",
   "metadata": {},
   "outputs": [
    {
     "data": {
      "text/plain": [
       "city              0\n",
       "country           0\n",
       "avg_temp          0\n",
       "moving_average    9\n",
       "dtype: int64"
      ]
     },
     "execution_count": 280,
     "metadata": {},
     "output_type": "execute_result"
    }
   ],
   "source": [
    "df.isnull().sum()"
   ]
  },
  {
   "cell_type": "code",
   "execution_count": 281,
   "id": "b91098e0",
   "metadata": {},
   "outputs": [],
   "source": [
    "df = df.dropna()"
   ]
  },
  {
   "cell_type": "code",
   "execution_count": 282,
   "id": "675a3629",
   "metadata": {},
   "outputs": [
    {
     "data": {
      "text/html": [
       "<div>\n",
       "<style scoped>\n",
       "    .dataframe tbody tr th:only-of-type {\n",
       "        vertical-align: middle;\n",
       "    }\n",
       "\n",
       "    .dataframe tbody tr th {\n",
       "        vertical-align: top;\n",
       "    }\n",
       "\n",
       "    .dataframe thead th {\n",
       "        text-align: right;\n",
       "    }\n",
       "</style>\n",
       "<table border=\"1\" class=\"dataframe\">\n",
       "  <thead>\n",
       "    <tr style=\"text-align: right;\">\n",
       "      <th></th>\n",
       "      <th>city</th>\n",
       "      <th>country</th>\n",
       "      <th>avg_temp</th>\n",
       "      <th>moving_average</th>\n",
       "    </tr>\n",
       "    <tr>\n",
       "      <th>year</th>\n",
       "      <th></th>\n",
       "      <th></th>\n",
       "      <th></th>\n",
       "      <th></th>\n",
       "    </tr>\n",
       "  </thead>\n",
       "  <tbody>\n",
       "    <tr>\n",
       "      <th>1858-01-01</th>\n",
       "      <td>Mecca</td>\n",
       "      <td>Saudi Arabia</td>\n",
       "      <td>25.61</td>\n",
       "      <td>25.610</td>\n",
       "    </tr>\n",
       "    <tr>\n",
       "      <th>1859-01-01</th>\n",
       "      <td>Mecca</td>\n",
       "      <td>Saudi Arabia</td>\n",
       "      <td>25.61</td>\n",
       "      <td>25.610</td>\n",
       "    </tr>\n",
       "    <tr>\n",
       "      <th>1860-01-01</th>\n",
       "      <td>Mecca</td>\n",
       "      <td>Saudi Arabia</td>\n",
       "      <td>25.61</td>\n",
       "      <td>25.610</td>\n",
       "    </tr>\n",
       "    <tr>\n",
       "      <th>1861-01-01</th>\n",
       "      <td>Mecca</td>\n",
       "      <td>Saudi Arabia</td>\n",
       "      <td>23.98</td>\n",
       "      <td>25.447</td>\n",
       "    </tr>\n",
       "    <tr>\n",
       "      <th>1862-01-01</th>\n",
       "      <td>Mecca</td>\n",
       "      <td>Saudi Arabia</td>\n",
       "      <td>24.13</td>\n",
       "      <td>25.299</td>\n",
       "    </tr>\n",
       "  </tbody>\n",
       "</table>\n",
       "</div>"
      ],
      "text/plain": [
       "             city       country  avg_temp  moving_average\n",
       "year                                                     \n",
       "1858-01-01  Mecca  Saudi Arabia     25.61          25.610\n",
       "1859-01-01  Mecca  Saudi Arabia     25.61          25.610\n",
       "1860-01-01  Mecca  Saudi Arabia     25.61          25.610\n",
       "1861-01-01  Mecca  Saudi Arabia     23.98          25.447\n",
       "1862-01-01  Mecca  Saudi Arabia     24.13          25.299"
      ]
     },
     "execution_count": 282,
     "metadata": {},
     "output_type": "execute_result"
    }
   ],
   "source": [
    "df.head()"
   ]
  },
  {
   "cell_type": "markdown",
   "id": "cd87d2e9",
   "metadata": {},
   "source": [
    "### Selecting only my city and moving 10-year averages through spreadsheet in excel and then loading data again through Jupyternotebook\n"
   ]
  },
  {
   "cell_type": "markdown",
   "id": "252d8774",
   "metadata": {},
   "source": [
    "### line chart of 10 - year moving averages temperature for City_Data"
   ]
  },
  {
   "cell_type": "code",
   "execution_count": 283,
   "id": "845785c4",
   "metadata": {},
   "outputs": [
    {
     "data": {
      "image/png": "[encoded data removed]",
      "text/plain": [
       "<Figure size 720x480 with 1 Axes>"
      ]
     },
     "metadata": {
      "needs_background": "light"
     },
     "output_type": "display_data"
    }
   ],
   "source": [
    "plt.figure(figsize=(6,4),dpi=120)\n",
    "df['moving_average'].plot()\n",
    "plt.title('Mecca city', fontsize=12)\n",
    "plt.xlabel('Year', fontsize=14)\n",
    "plt.ylabel('moving_average_temp', fontsize=12)\n",
    "plt.xticks(rotation = 45) ;"
   ]
  },
  {
   "cell_type": "markdown",
   "id": "eef3760d",
   "metadata": {},
   "source": [
    "### Using Global Data"
   ]
  },
  {
   "cell_type": "code",
   "execution_count": 284,
   "id": "76cf393f",
   "metadata": {},
   "outputs": [],
   "source": [
    "df_global = pd.read_csv('data/global.csv')"
   ]
  },
  {
   "cell_type": "code",
   "execution_count": 285,
   "id": "a9d0c814",
   "metadata": {},
   "outputs": [
    {
     "data": {
      "text/html": [
       "<div>\n",
       "<style scoped>\n",
       "    .dataframe tbody tr th:only-of-type {\n",
       "        vertical-align: middle;\n",
       "    }\n",
       "\n",
       "    .dataframe tbody tr th {\n",
       "        vertical-align: top;\n",
       "    }\n",
       "\n",
       "    .dataframe thead th {\n",
       "        text-align: right;\n",
       "    }\n",
       "</style>\n",
       "<table border=\"1\" class=\"dataframe\">\n",
       "  <thead>\n",
       "    <tr style=\"text-align: right;\">\n",
       "      <th></th>\n",
       "      <th>year</th>\n",
       "      <th>avg_temp</th>\n",
       "    </tr>\n",
       "  </thead>\n",
       "  <tbody>\n",
       "    <tr>\n",
       "      <th>0</th>\n",
       "      <td>1750</td>\n",
       "      <td>8.72</td>\n",
       "    </tr>\n",
       "    <tr>\n",
       "      <th>1</th>\n",
       "      <td>1751</td>\n",
       "      <td>7.98</td>\n",
       "    </tr>\n",
       "    <tr>\n",
       "      <th>2</th>\n",
       "      <td>1752</td>\n",
       "      <td>5.78</td>\n",
       "    </tr>\n",
       "    <tr>\n",
       "      <th>3</th>\n",
       "      <td>1753</td>\n",
       "      <td>8.39</td>\n",
       "    </tr>\n",
       "    <tr>\n",
       "      <th>4</th>\n",
       "      <td>1754</td>\n",
       "      <td>8.47</td>\n",
       "    </tr>\n",
       "  </tbody>\n",
       "</table>\n",
       "</div>"
      ],
      "text/plain": [
       "   year  avg_temp\n",
       "0  1750      8.72\n",
       "1  1751      7.98\n",
       "2  1752      5.78\n",
       "3  1753      8.39\n",
       "4  1754      8.47"
      ]
     },
     "execution_count": 285,
     "metadata": {},
     "output_type": "execute_result"
    }
   ],
   "source": [
    "df_global.head()"
   ]
  },
  {
   "cell_type": "markdown",
   "id": "87ec547e",
   "metadata": {},
   "source": [
    "### Checking from row and column numbers"
   ]
  },
  {
   "cell_type": "code",
   "execution_count": 286,
   "id": "6b24751a",
   "metadata": {},
   "outputs": [
    {
     "data": {
      "text/plain": [
       "(266, 2)"
      ]
     },
     "execution_count": 286,
     "metadata": {},
     "output_type": "execute_result"
    }
   ],
   "source": [
    "df_global.shape"
   ]
  },
  {
   "cell_type": "markdown",
   "id": "d30c1d0d",
   "metadata": {},
   "source": [
    "### Checking missing values"
   ]
  },
  {
   "cell_type": "code",
   "execution_count": 287,
   "id": "25e867d8",
   "metadata": {},
   "outputs": [
    {
     "data": {
      "text/plain": [
       "year        0\n",
       "avg_temp    0\n",
       "dtype: int64"
      ]
     },
     "execution_count": 287,
     "metadata": {},
     "output_type": "execute_result"
    }
   ],
   "source": [
    "df_global.isnull().sum()"
   ]
  },
  {
   "cell_type": "code",
   "execution_count": 288,
   "id": "d7a77baf",
   "metadata": {},
   "outputs": [],
   "source": [
    "df_global['moving_average'] = df_global['avg_temp'].rolling(window=10).mean()"
   ]
  },
  {
   "cell_type": "code",
   "execution_count": 289,
   "id": "cc7a4c73",
   "metadata": {},
   "outputs": [
    {
     "data": {
      "text/html": [
       "<div>\n",
       "<style scoped>\n",
       "    .dataframe tbody tr th:only-of-type {\n",
       "        vertical-align: middle;\n",
       "    }\n",
       "\n",
       "    .dataframe tbody tr th {\n",
       "        vertical-align: top;\n",
       "    }\n",
       "\n",
       "    .dataframe thead th {\n",
       "        text-align: right;\n",
       "    }\n",
       "</style>\n",
       "<table border=\"1\" class=\"dataframe\">\n",
       "  <thead>\n",
       "    <tr style=\"text-align: right;\">\n",
       "      <th></th>\n",
       "      <th>year</th>\n",
       "      <th>avg_temp</th>\n",
       "      <th>moving_average</th>\n",
       "    </tr>\n",
       "  </thead>\n",
       "  <tbody>\n",
       "    <tr>\n",
       "      <th>0</th>\n",
       "      <td>1750</td>\n",
       "      <td>8.72</td>\n",
       "      <td>NaN</td>\n",
       "    </tr>\n",
       "    <tr>\n",
       "      <th>1</th>\n",
       "      <td>1751</td>\n",
       "      <td>7.98</td>\n",
       "      <td>NaN</td>\n",
       "    </tr>\n",
       "    <tr>\n",
       "      <th>2</th>\n",
       "      <td>1752</td>\n",
       "      <td>5.78</td>\n",
       "      <td>NaN</td>\n",
       "    </tr>\n",
       "    <tr>\n",
       "      <th>3</th>\n",
       "      <td>1753</td>\n",
       "      <td>8.39</td>\n",
       "      <td>NaN</td>\n",
       "    </tr>\n",
       "    <tr>\n",
       "      <th>4</th>\n",
       "      <td>1754</td>\n",
       "      <td>8.47</td>\n",
       "      <td>NaN</td>\n",
       "    </tr>\n",
       "  </tbody>\n",
       "</table>\n",
       "</div>"
      ],
      "text/plain": [
       "   year  avg_temp  moving_average\n",
       "0  1750      8.72             NaN\n",
       "1  1751      7.98             NaN\n",
       "2  1752      5.78             NaN\n",
       "3  1753      8.39             NaN\n",
       "4  1754      8.47             NaN"
      ]
     },
     "execution_count": 289,
     "metadata": {},
     "output_type": "execute_result"
    }
   ],
   "source": [
    "df_global.head()"
   ]
  },
  {
   "cell_type": "code",
   "execution_count": 290,
   "id": "f7a4ca4b",
   "metadata": {},
   "outputs": [
    {
     "data": {
      "text/plain": [
       "year              0\n",
       "avg_temp          0\n",
       "moving_average    9\n",
       "dtype: int64"
      ]
     },
     "execution_count": 290,
     "metadata": {},
     "output_type": "execute_result"
    }
   ],
   "source": [
    "df_global.isnull().sum()"
   ]
  },
  {
   "cell_type": "markdown",
   "id": "43c063d4",
   "metadata": {},
   "source": [
    "### Dropping Nan value"
   ]
  },
  {
   "cell_type": "code",
   "execution_count": 291,
   "id": "3298ede4",
   "metadata": {},
   "outputs": [],
   "source": [
    "df_global = df_global.dropna()"
   ]
  },
  {
   "cell_type": "code",
   "execution_count": 292,
   "id": "22abe4d1",
   "metadata": {},
   "outputs": [
    {
     "data": {
      "text/html": [
       "<div>\n",
       "<style scoped>\n",
       "    .dataframe tbody tr th:only-of-type {\n",
       "        vertical-align: middle;\n",
       "    }\n",
       "\n",
       "    .dataframe tbody tr th {\n",
       "        vertical-align: top;\n",
       "    }\n",
       "\n",
       "    .dataframe thead th {\n",
       "        text-align: right;\n",
       "    }\n",
       "</style>\n",
       "<table border=\"1\" class=\"dataframe\">\n",
       "  <thead>\n",
       "    <tr style=\"text-align: right;\">\n",
       "      <th></th>\n",
       "      <th>year</th>\n",
       "      <th>avg_temp</th>\n",
       "      <th>moving_average</th>\n",
       "    </tr>\n",
       "  </thead>\n",
       "  <tbody>\n",
       "    <tr>\n",
       "      <th>9</th>\n",
       "      <td>1759</td>\n",
       "      <td>7.99</td>\n",
       "      <td>8.030</td>\n",
       "    </tr>\n",
       "    <tr>\n",
       "      <th>10</th>\n",
       "      <td>1760</td>\n",
       "      <td>7.19</td>\n",
       "      <td>7.877</td>\n",
       "    </tr>\n",
       "    <tr>\n",
       "      <th>11</th>\n",
       "      <td>1761</td>\n",
       "      <td>8.77</td>\n",
       "      <td>7.956</td>\n",
       "    </tr>\n",
       "    <tr>\n",
       "      <th>12</th>\n",
       "      <td>1762</td>\n",
       "      <td>8.61</td>\n",
       "      <td>8.239</td>\n",
       "    </tr>\n",
       "    <tr>\n",
       "      <th>13</th>\n",
       "      <td>1763</td>\n",
       "      <td>7.50</td>\n",
       "      <td>8.150</td>\n",
       "    </tr>\n",
       "  </tbody>\n",
       "</table>\n",
       "</div>"
      ],
      "text/plain": [
       "    year  avg_temp  moving_average\n",
       "9   1759      7.99           8.030\n",
       "10  1760      7.19           7.877\n",
       "11  1761      8.77           7.956\n",
       "12  1762      8.61           8.239\n",
       "13  1763      7.50           8.150"
      ]
     },
     "execution_count": 292,
     "metadata": {},
     "output_type": "execute_result"
    }
   ],
   "source": [
    "df_global.head()"
   ]
  },
  {
   "cell_type": "markdown",
   "id": "7ae3f8a4",
   "metadata": {},
   "source": [
    "### Creating a line chart of 10 - year moving averages temperature for Global_data"
   ]
  },
  {
   "cell_type": "code",
   "execution_count": 293,
   "id": "6154458a",
   "metadata": {},
   "outputs": [
    {
     "data": {
      "image/png": "[encoded data removed]",
      "text/plain": [
       "<Figure size 720x480 with 1 Axes>"
      ]
     },
     "metadata": {
      "needs_background": "light"
     },
     "output_type": "display_data"
    }
   ],
   "source": [
    "plt.figure(figsize=(6,4),dpi=120)\n",
    "plt.plot(df_global['year'],df_global['moving_average'])\n",
    "plt.title('Global', fontsize=12)\n",
    "plt.xlabel('Year', fontsize=12)\n",
    "plt.ylabel('moving_average', fontsize=12);\n",
    "\n"
   ]
  },
  {
   "cell_type": "markdown",
   "id": "d98d95a5",
   "metadata": {},
   "source": [
    "#### As shown above, using 10 day moving averages to smooth out the lines, and make trends more observabl, we noticed that Mecca city is hotter  on averge compared to the global average\n",
    "Global has an average surface temperature of 4 degrees Celsius, the average temperature of Venus is 460 degrees Celsius. That is roughly 410 degrees hotter than "
   ]
  },
  {
   "cell_type": "code",
   "execution_count": 4,
   "id": "3ff1b494",
   "metadata": {},
   "outputs": [
    {
     "name": "stdout",
     "output_type": "stream",
     "text": [
      "Requirement already satisfied: nbconvert in /Users/qasemdhamad/opt/anaconda3/lib/python3.9/site-packages (6.1.0)\n",
      "Requirement already satisfied: traitlets>=5.0 in /Users/qasemdhamad/opt/anaconda3/lib/python3.9/site-packages (from nbconvert) (5.1.0)\n",
      "Requirement already satisfied: defusedxml in /Users/qasemdhamad/opt/anaconda3/lib/python3.9/site-packages (from nbconvert) (0.7.1)\n",
      "Requirement already satisfied: nbformat>=4.4 in /Users/qasemdhamad/opt/anaconda3/lib/python3.9/site-packages (from nbconvert) (5.1.3)\n",
      "Requirement already satisfied: nbclient<0.6.0,>=0.5.0 in /Users/qasemdhamad/opt/anaconda3/lib/python3.9/site-packages (from nbconvert) (0.5.3)\n",
      "Requirement already satisfied: pygments>=2.4.1 in /Users/qasemdhamad/opt/anaconda3/lib/python3.9/site-packages (from nbconvert) (2.10.0)\n",
      "Requirement already satisfied: jinja2>=2.4 in /Users/qasemdhamad/opt/anaconda3/lib/python3.9/site-packages (from nbconvert) (2.11.3)\n",
      "Requirement already satisfied: mistune<2,>=0.8.1 in /Users/qasemdhamad/opt/anaconda3/lib/python3.9/site-packages (from nbconvert) (0.8.4)\n",
      "Requirement already satisfied: entrypoints>=0.2.2 in /Users/qasemdhamad/opt/anaconda3/lib/python3.9/site-packages (from nbconvert) (0.3)\n",
      "Requirement already satisfied: jupyterlab-pygments in /Users/qasemdhamad/opt/anaconda3/lib/python3.9/site-packages (from nbconvert) (0.1.2)\n",
      "Requirement already satisfied: bleach in /Users/qasemdhamad/opt/anaconda3/lib/python3.9/site-packages (from nbconvert) (4.0.0)\n",
      "Requirement already satisfied: testpath in /Users/qasemdhamad/opt/anaconda3/lib/python3.9/site-packages (from nbconvert) (0.5.0)\n",
      "Requirement already satisfied: jupyter-core in /Users/qasemdhamad/opt/anaconda3/lib/python3.9/site-packages (from nbconvert) (4.8.1)\n",
      "Requirement already satisfied: pandocfilters>=1.4.1 in /Users/qasemdhamad/opt/anaconda3/lib/python3.9/site-packages (from nbconvert) (1.4.3)\n",
      "Requirement already satisfied: MarkupSafe>=0.23 in /Users/qasemdhamad/opt/anaconda3/lib/python3.9/site-packages (from jinja2>=2.4->nbconvert) (1.1.1)\n",
      "Requirement already satisfied: jupyter-client>=6.1.5 in /Users/qasemdhamad/opt/anaconda3/lib/python3.9/site-packages (from nbclient<0.6.0,>=0.5.0->nbconvert) (6.1.12)\n",
      "Requirement already satisfied: async-generator in /Users/qasemdhamad/opt/anaconda3/lib/python3.9/site-packages (from nbclient<0.6.0,>=0.5.0->nbconvert) (1.10)\n",
      "Requirement already satisfied: nest-asyncio in /Users/qasemdhamad/opt/anaconda3/lib/python3.9/site-packages (from nbclient<0.6.0,>=0.5.0->nbconvert) (1.5.1)\n",
      "Requirement already satisfied: tornado>=4.1 in /Users/qasemdhamad/opt/anaconda3/lib/python3.9/site-packages (from jupyter-client>=6.1.5->nbclient<0.6.0,>=0.5.0->nbconvert) (6.1)\n",
      "Requirement already satisfied: python-dateutil>=2.1 in /Users/qasemdhamad/opt/anaconda3/lib/python3.9/site-packages (from jupyter-client>=6.1.5->nbclient<0.6.0,>=0.5.0->nbconvert) (2.8.2)\n",
      "Requirement already satisfied: pyzmq>=13 in /Users/qasemdhamad/opt/anaconda3/lib/python3.9/site-packages (from jupyter-client>=6.1.5->nbclient<0.6.0,>=0.5.0->nbconvert) (22.2.1)\n",
      "Requirement already satisfied: ipython-genutils in /Users/qasemdhamad/opt/anaconda3/lib/python3.9/site-packages (from nbformat>=4.4->nbconvert) (0.2.0)\n",
      "Requirement already satisfied: jsonschema!=2.5.0,>=2.4 in /Users/qasemdhamad/opt/anaconda3/lib/python3.9/site-packages (from nbformat>=4.4->nbconvert) (3.2.0)\n",
      "Requirement already satisfied: setuptools in /Users/qasemdhamad/opt/anaconda3/lib/python3.9/site-packages (from jsonschema!=2.5.0,>=2.4->nbformat>=4.4->nbconvert) (58.0.4)\n",
      "Requirement already satisfied: pyrsistent>=0.14.0 in /Users/qasemdhamad/opt/anaconda3/lib/python3.9/site-packages (from jsonschema!=2.5.0,>=2.4->nbformat>=4.4->nbconvert) (0.18.0)\n",
      "Requirement already satisfied: attrs>=17.4.0 in /Users/qasemdhamad/opt/anaconda3/lib/python3.9/site-packages (from jsonschema!=2.5.0,>=2.4->nbformat>=4.4->nbconvert) (21.2.0)\n",
      "Requirement already satisfied: six>=1.11.0 in /Users/qasemdhamad/opt/anaconda3/lib/python3.9/site-packages (from jsonschema!=2.5.0,>=2.4->nbformat>=4.4->nbconvert) (1.16.0)\n",
      "Requirement already satisfied: packaging in /Users/qasemdhamad/opt/anaconda3/lib/python3.9/site-packages (from bleach->nbconvert) (21.0)\n",
      "Requirement already satisfied: webencodings in /Users/qasemdhamad/opt/anaconda3/lib/python3.9/site-packages (from bleach->nbconvert) (0.5.1)\n",
      "Requirement already satisfied: pyparsing>=2.0.2 in /Users/qasemdhamad/opt/anaconda3/lib/python3.9/site-packages (from packaging->bleach->nbconvert) (3.0.4)\n",
      "Note: you may need to restart the kernel to use updated packages.\n"
     ]
    }
   ],
   "source": [
    "pip install nbconvert"
   ]
  },
  {
   "cell_type": "code",
   "execution_count": null,
   "id": "a0b40b1f",
   "metadata": {},
   "outputs": [],
   "source": []
  }
 ],
 "metadata": {
  "kernelspec": {
   "display_name": "Python 3 (ipykernel)",
   "language": "python",
   "name": "python3"
  },
  "language_info": {
   "codemirror_mode": {
    "name": "ipython",
    "version": 3
   },
   "file_extension": ".py",
   "mimetype": "text/x-python",
   "name": "python",
   "nbconvert_exporter": "python",
   "pygments_lexer": "ipython3",
   "version": "3.9.7"
  }
 },
 "nbformat": 4,
 "nbformat_minor": 5
}
